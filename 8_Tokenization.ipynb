{
  "cells": [
    {
      "cell_type": "code",
      "execution_count": 1,
      "metadata": {
        "id": "UCGH65UU5cfm"
      },
      "outputs": [],
      "source": [
        "#import tokenizer\n",
        "from tensorflow.keras.preprocessing.text import Tokenizer"
      ]
    },
    {
      "cell_type": "code",
      "execution_count": 2,
      "metadata": {
        "id": "WwXZKhSr5mHQ"
      },
      "outputs": [],
      "source": [
        "#num_words banyaknya kata yang sering muncul yang akan ditokenisasi\n",
        "#oov_token mengganti kata-kata yang tidak ditokenisasi dengan karatker tertentu\n",
        "tokenizer = Tokenizer(num_words=15, oov_token='-') "
      ]
    },
    {
      "cell_type": "code",
      "execution_count": 3,
      "metadata": {
        "id": "Nevhxf8c6KqX"
      },
      "outputs": [],
      "source": [
        "#inisiasi teks yang akan digunakan untuk training model\n",
        "teks = ['Saya suka programming',\n",
        "        'Programming sangat menyenangkan!',\n",
        "        'Machine Learning berbeda dengan pemrograman konvensional']"
      ]
    },
    {
      "cell_type": "code",
      "execution_count": 4,
      "metadata": {
        "id": "CHZ9hPXh6VPW"
      },
      "outputs": [],
      "source": [
        "#tokenisasi\n",
        "tokenizer.fit_on_texts(teks)"
      ]
    },
    {
      "cell_type": "code",
      "execution_count": 5,
      "metadata": {
        "id": "A1lSaVFp6aYo"
      },
      "outputs": [],
      "source": [
        "#sequencing\n",
        "sequences = tokenizer.texts_to_sequences(teks)"
      ]
    },
    {
      "cell_type": "code",
      "execution_count": 7,
      "metadata": {
        "colab": {
          "base_uri": "https://localhost:8080/"
        },
        "id": "xA36CjfC6mM5",
        "outputId": "a99a5d9d-46e9-436d-e088-d0ce9acbf934"
      },
      "outputs": [
        {
          "name": "stdout",
          "output_type": "stream",
          "text": [
            "{'-': 1, 'programming': 2, 'saya': 3, 'suka': 4, 'sangat': 5, 'menyenangkan': 6, 'machine': 7, 'learning': 8, 'berbeda': 9, 'dengan': 10, 'pemrograman': 11, 'konvensional': 12}\n"
          ]
        }
      ],
      "source": [
        "#melihat hasil tokenisasi berupa key-dan-value atau kata-dan-token\n",
        "print(tokenizer.word_index) #tanda baca dan kapitalisasi tidak diproses. 'programming' dan 'Programming' dianggap sama"
      ]
    },
    {
      "cell_type": "code",
      "execution_count": 8,
      "metadata": {
        "colab": {
          "base_uri": "https://localhost:8080/"
        },
        "id": "svbnYiWY6xhN",
        "outputId": "8d3cac60-a4ad-4d38-8177-a4c1c8bf10ad"
      },
      "outputs": [
        {
          "name": "stdout",
          "output_type": "stream",
          "text": [
            "[[3, 4, 2]]\n",
            "[[3, 4, 1, 2, 1, 1]]\n"
          ]
        }
      ],
      "source": [
        "print(tokenizer.texts_to_sequences(['Saya suka programming']))\n",
        "print(tokenizer.texts_to_sequences(['Saya suka belajar programming sejak SMP']))"
      ]
    },
    {
      "cell_type": "code",
      "execution_count": 11,
      "metadata": {
        "id": "VnpwjamS_uE-"
      },
      "outputs": [],
      "source": [
        "#padding\n",
        "from tensorflow.keras.preprocessing.sequence import pad_sequences\n",
        "sequences_samapanjang = pad_sequences(sequences)"
      ]
    },
    {
      "cell_type": "code",
      "execution_count": 10,
      "metadata": {
        "colab": {
          "base_uri": "https://localhost:8080/"
        },
        "id": "LHcE_hhz_5my",
        "outputId": "b38e81c3-7a47-4b42-f425-ee2eb9d8df2c"
      },
      "outputs": [
        {
          "name": "stdout",
          "output_type": "stream",
          "text": [
            "[[ 0  0  0  3  4  2]\n",
            " [ 0  0  0  2  5  6]\n",
            " [ 7  8  9 10 11 12]]\n"
          ]
        }
      ],
      "source": [
        "print(sequences_samapanjang)"
      ]
    },
    {
      "cell_type": "code",
      "execution_count": 12,
      "metadata": {
        "id": "Cet8CovTAJ1z"
      },
      "outputs": [],
      "source": [
        "#cara meletakkan 0 di bagian akhir sequence\n",
        "sequences_samapanjang = pad_sequences(sequences,\n",
        "                                      padding='post')"
      ]
    },
    {
      "cell_type": "code",
      "execution_count": 13,
      "metadata": {
        "colab": {
          "base_uri": "https://localhost:8080/"
        },
        "id": "spJAf608Bht-",
        "outputId": "89d121c7-b0f9-436d-9ce5-30011fa10376"
      },
      "outputs": [
        {
          "name": "stdout",
          "output_type": "stream",
          "text": [
            "[[ 3  4  2  0  0  0]\n",
            " [ 2  5  6  0  0  0]\n",
            " [ 7  8  9 10 11 12]]\n"
          ]
        }
      ],
      "source": [
        "print(sequences_samapanjang)"
      ]
    },
    {
      "cell_type": "code",
      "execution_count": 18,
      "metadata": {
        "id": "1YzKxguVBmeW"
      },
      "outputs": [],
      "source": [
        "#cara mengatur panjang sequence dengan maxlen\n",
        "sequences_samapanjang = pad_sequences(sequences,\n",
        "                                      padding='post',\n",
        "                                      maxlen=5)"
      ]
    },
    {
      "cell_type": "code",
      "execution_count": 15,
      "metadata": {
        "colab": {
          "base_uri": "https://localhost:8080/"
        },
        "id": "HzT4DM1tB6k5",
        "outputId": "18c3b1fa-8565-440e-bff3-5e5cc243e916"
      },
      "outputs": [
        {
          "name": "stdout",
          "output_type": "stream",
          "text": [
            "[[ 3  4  2  0  0]\n",
            " [ 2  5  6  0  0]\n",
            " [ 8  9 10 11 12]]\n"
          ]
        }
      ],
      "source": [
        "print(sequences_samapanjang)"
      ]
    },
    {
      "cell_type": "code",
      "execution_count": 19,
      "metadata": {
        "id": "mUJzs1TJB-4l"
      },
      "outputs": [],
      "source": [
        "#jika lebih dari 5 kata, untuk mengambil 5 kata pertama gunakan truncating='post'\n",
        "sequences_samapanjang = pad_sequences(sequences,\n",
        "                                      padding='post',\n",
        "                                      maxlen=5,\n",
        "                                      truncating='post')"
      ]
    },
    {
      "cell_type": "code",
      "execution_count": 17,
      "metadata": {
        "colab": {
          "base_uri": "https://localhost:8080/"
        },
        "id": "Z7yl8ceqCEk1",
        "outputId": "f22be3ea-25e3-4f96-a886-4b78b7e36fa9"
      },
      "outputs": [
        {
          "name": "stdout",
          "output_type": "stream",
          "text": [
            "[[ 3  4  2  0  0]\n",
            " [ 2  5  6  0  0]\n",
            " [ 7  8  9 10 11]]\n"
          ]
        }
      ],
      "source": [
        "print(sequences_samapanjang)"
      ]
    }
  ],
  "metadata": {
    "colab": {
      "authorship_tag": "ABX9TyO5CrQnw47uAUfbtlpflcUV",
      "include_colab_link": true,
      "name": "8 Tokenization.ipynb",
      "provenance": []
    },
    "kernelspec": {
      "display_name": "Python 3",
      "name": "python3"
    },
    "language_info": {
      "name": "python"
    }
  },
  "nbformat": 4,
  "nbformat_minor": 0
}
