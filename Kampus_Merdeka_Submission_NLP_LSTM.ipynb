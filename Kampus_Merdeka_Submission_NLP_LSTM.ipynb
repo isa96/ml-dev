{
  "cells": [
    {
      "cell_type": "code",
      "execution_count": 2,
      "metadata": {
        "colab": {
          "base_uri": "https://localhost:8080/"
        },
        "id": "vVSV9wwXHArB",
        "outputId": "7b50cfd6-97a6-41c2-e188-8ccc4c3bd0b3"
      },
      "outputs": [
        {
          "name": "stdout",
          "output_type": "stream",
          "text": [
            "Mounted at /content/drive\n"
          ]
        }
      ],
      "source": [
        "import zipfile,os\n",
        "from google.colab import drive\n",
        "drive.mount('/content/drive')"
      ]
    },
    {
      "cell_type": "code",
      "execution_count": 3,
      "metadata": {
        "id": "ZRkYIGxJ8_SI"
      },
      "outputs": [],
      "source": [
        "# melakukan ekstraksi pada file zip\n",
        "import zipfile,os,shutil\n",
        "local_zip = 'drive/My Drive/MachineLearning/spam.zip'\n",
        "zip_ref = zipfile.ZipFile(local_zip, 'r')\n",
        "zip_ref.extractall('/spam')\n",
        "zip_ref.close()"
      ]
    },
    {
      "cell_type": "code",
      "execution_count": 4,
      "metadata": {
        "colab": {
          "base_uri": "https://localhost:8080/"
        },
        "id": "XpTYb6-aIXbp",
        "outputId": "c57a134f-a87f-44ee-b2d8-ea076d044615"
      },
      "outputs": [
        {
          "data": {
            "text/plain": [
              "['spam_ham_dataset.csv']"
            ]
          },
          "execution_count": 4,
          "metadata": {},
          "output_type": "execute_result"
        }
      ],
      "source": [
        "os.listdir('/spam')"
      ]
    },
    {
      "cell_type": "code",
      "execution_count": 5,
      "metadata": {
        "id": "o2ll02n8_UZG"
      },
      "outputs": [],
      "source": [
        "import pandas as pd\n",
        "df = pd.read_csv('/spam/spam_ham_dataset.csv')"
      ]
    },
    {
      "cell_type": "code",
      "execution_count": 6,
      "metadata": {
        "colab": {
          "base_uri": "https://localhost:8080/",
          "height": 423
        },
        "id": "1qqcCC7V_eFS",
        "outputId": "62328cbf-d3a3-4c2f-8d58-507123501a28"
      },
      "outputs": [
        {
          "data": {
            "text/html": [
              "<div>\n",
              "<style scoped>\n",
              "    .dataframe tbody tr th:only-of-type {\n",
              "        vertical-align: middle;\n",
              "    }\n",
              "\n",
              "    .dataframe tbody tr th {\n",
              "        vertical-align: top;\n",
              "    }\n",
              "\n",
              "    .dataframe thead th {\n",
              "        text-align: right;\n",
              "    }\n",
              "</style>\n",
              "<table border=\"1\" class=\"dataframe\">\n",
              "  <thead>\n",
              "    <tr style=\"text-align: right;\">\n",
              "      <th></th>\n",
              "      <th>Unnamed: 0</th>\n",
              "      <th>label</th>\n",
              "      <th>text</th>\n",
              "      <th>label_num</th>\n",
              "    </tr>\n",
              "  </thead>\n",
              "  <tbody>\n",
              "    <tr>\n",
              "      <th>0</th>\n",
              "      <td>605</td>\n",
              "      <td>ham</td>\n",
              "      <td>Subject: enron methanol ; meter # : 988291\\r\\n...</td>\n",
              "      <td>0</td>\n",
              "    </tr>\n",
              "    <tr>\n",
              "      <th>1</th>\n",
              "      <td>2349</td>\n",
              "      <td>ham</td>\n",
              "      <td>Subject: hpl nom for january 9 , 2001\\r\\n( see...</td>\n",
              "      <td>0</td>\n",
              "    </tr>\n",
              "    <tr>\n",
              "      <th>2</th>\n",
              "      <td>3624</td>\n",
              "      <td>ham</td>\n",
              "      <td>Subject: neon retreat\\r\\nho ho ho , we ' re ar...</td>\n",
              "      <td>0</td>\n",
              "    </tr>\n",
              "    <tr>\n",
              "      <th>3</th>\n",
              "      <td>4685</td>\n",
              "      <td>spam</td>\n",
              "      <td>Subject: photoshop , windows , office . cheap ...</td>\n",
              "      <td>1</td>\n",
              "    </tr>\n",
              "    <tr>\n",
              "      <th>4</th>\n",
              "      <td>2030</td>\n",
              "      <td>ham</td>\n",
              "      <td>Subject: re : indian springs\\r\\nthis deal is t...</td>\n",
              "      <td>0</td>\n",
              "    </tr>\n",
              "    <tr>\n",
              "      <th>...</th>\n",
              "      <td>...</td>\n",
              "      <td>...</td>\n",
              "      <td>...</td>\n",
              "      <td>...</td>\n",
              "    </tr>\n",
              "    <tr>\n",
              "      <th>5166</th>\n",
              "      <td>1518</td>\n",
              "      <td>ham</td>\n",
              "      <td>Subject: put the 10 on the ft\\r\\nthe transport...</td>\n",
              "      <td>0</td>\n",
              "    </tr>\n",
              "    <tr>\n",
              "      <th>5167</th>\n",
              "      <td>404</td>\n",
              "      <td>ham</td>\n",
              "      <td>Subject: 3 / 4 / 2000 and following noms\\r\\nhp...</td>\n",
              "      <td>0</td>\n",
              "    </tr>\n",
              "    <tr>\n",
              "      <th>5168</th>\n",
              "      <td>2933</td>\n",
              "      <td>ham</td>\n",
              "      <td>Subject: calpine daily gas nomination\\r\\n&gt;\\r\\n...</td>\n",
              "      <td>0</td>\n",
              "    </tr>\n",
              "    <tr>\n",
              "      <th>5169</th>\n",
              "      <td>1409</td>\n",
              "      <td>ham</td>\n",
              "      <td>Subject: industrial worksheets for august 2000...</td>\n",
              "      <td>0</td>\n",
              "    </tr>\n",
              "    <tr>\n",
              "      <th>5170</th>\n",
              "      <td>4807</td>\n",
              "      <td>spam</td>\n",
              "      <td>Subject: important online banking alert\\r\\ndea...</td>\n",
              "      <td>1</td>\n",
              "    </tr>\n",
              "  </tbody>\n",
              "</table>\n",
              "<p>5171 rows × 4 columns</p>\n",
              "</div>"
            ],
            "text/plain": [
              "      Unnamed: 0  ... label_num\n",
              "0            605  ...         0\n",
              "1           2349  ...         0\n",
              "2           3624  ...         0\n",
              "3           4685  ...         1\n",
              "4           2030  ...         0\n",
              "...          ...  ...       ...\n",
              "5166        1518  ...         0\n",
              "5167         404  ...         0\n",
              "5168        2933  ...         0\n",
              "5169        1409  ...         0\n",
              "5170        4807  ...         1\n",
              "\n",
              "[5171 rows x 4 columns]"
            ]
          },
          "execution_count": 6,
          "metadata": {},
          "output_type": "execute_result"
        }
      ],
      "source": [
        "df"
      ]
    },
    {
      "cell_type": "code",
      "execution_count": 7,
      "metadata": {
        "colab": {
          "base_uri": "https://localhost:8080/",
          "height": 423
        },
        "id": "QhGBT9GLIwk8",
        "outputId": "a1e829f7-0617-4cd5-a219-e141e305cd26"
      },
      "outputs": [
        {
          "data": {
            "text/html": [
              "<div>\n",
              "<style scoped>\n",
              "    .dataframe tbody tr th:only-of-type {\n",
              "        vertical-align: middle;\n",
              "    }\n",
              "\n",
              "    .dataframe tbody tr th {\n",
              "        vertical-align: top;\n",
              "    }\n",
              "\n",
              "    .dataframe thead th {\n",
              "        text-align: right;\n",
              "    }\n",
              "</style>\n",
              "<table border=\"1\" class=\"dataframe\">\n",
              "  <thead>\n",
              "    <tr style=\"text-align: right;\">\n",
              "      <th></th>\n",
              "      <th>Unnamed: 0</th>\n",
              "      <th>text</th>\n",
              "      <th>ham</th>\n",
              "      <th>spam</th>\n",
              "    </tr>\n",
              "  </thead>\n",
              "  <tbody>\n",
              "    <tr>\n",
              "      <th>0</th>\n",
              "      <td>605</td>\n",
              "      <td>Subject: enron methanol ; meter # : 988291\\r\\n...</td>\n",
              "      <td>1</td>\n",
              "      <td>0</td>\n",
              "    </tr>\n",
              "    <tr>\n",
              "      <th>1</th>\n",
              "      <td>2349</td>\n",
              "      <td>Subject: hpl nom for january 9 , 2001\\r\\n( see...</td>\n",
              "      <td>1</td>\n",
              "      <td>0</td>\n",
              "    </tr>\n",
              "    <tr>\n",
              "      <th>2</th>\n",
              "      <td>3624</td>\n",
              "      <td>Subject: neon retreat\\r\\nho ho ho , we ' re ar...</td>\n",
              "      <td>1</td>\n",
              "      <td>0</td>\n",
              "    </tr>\n",
              "    <tr>\n",
              "      <th>3</th>\n",
              "      <td>4685</td>\n",
              "      <td>Subject: photoshop , windows , office . cheap ...</td>\n",
              "      <td>0</td>\n",
              "      <td>1</td>\n",
              "    </tr>\n",
              "    <tr>\n",
              "      <th>4</th>\n",
              "      <td>2030</td>\n",
              "      <td>Subject: re : indian springs\\r\\nthis deal is t...</td>\n",
              "      <td>1</td>\n",
              "      <td>0</td>\n",
              "    </tr>\n",
              "    <tr>\n",
              "      <th>...</th>\n",
              "      <td>...</td>\n",
              "      <td>...</td>\n",
              "      <td>...</td>\n",
              "      <td>...</td>\n",
              "    </tr>\n",
              "    <tr>\n",
              "      <th>5166</th>\n",
              "      <td>1518</td>\n",
              "      <td>Subject: put the 10 on the ft\\r\\nthe transport...</td>\n",
              "      <td>1</td>\n",
              "      <td>0</td>\n",
              "    </tr>\n",
              "    <tr>\n",
              "      <th>5167</th>\n",
              "      <td>404</td>\n",
              "      <td>Subject: 3 / 4 / 2000 and following noms\\r\\nhp...</td>\n",
              "      <td>1</td>\n",
              "      <td>0</td>\n",
              "    </tr>\n",
              "    <tr>\n",
              "      <th>5168</th>\n",
              "      <td>2933</td>\n",
              "      <td>Subject: calpine daily gas nomination\\r\\n&gt;\\r\\n...</td>\n",
              "      <td>1</td>\n",
              "      <td>0</td>\n",
              "    </tr>\n",
              "    <tr>\n",
              "      <th>5169</th>\n",
              "      <td>1409</td>\n",
              "      <td>Subject: industrial worksheets for august 2000...</td>\n",
              "      <td>1</td>\n",
              "      <td>0</td>\n",
              "    </tr>\n",
              "    <tr>\n",
              "      <th>5170</th>\n",
              "      <td>4807</td>\n",
              "      <td>Subject: important online banking alert\\r\\ndea...</td>\n",
              "      <td>0</td>\n",
              "      <td>1</td>\n",
              "    </tr>\n",
              "  </tbody>\n",
              "</table>\n",
              "<p>5171 rows × 4 columns</p>\n",
              "</div>"
            ],
            "text/plain": [
              "      Unnamed: 0                                               text  ham  spam\n",
              "0            605  Subject: enron methanol ; meter # : 988291\\r\\n...    1     0\n",
              "1           2349  Subject: hpl nom for january 9 , 2001\\r\\n( see...    1     0\n",
              "2           3624  Subject: neon retreat\\r\\nho ho ho , we ' re ar...    1     0\n",
              "3           4685  Subject: photoshop , windows , office . cheap ...    0     1\n",
              "4           2030  Subject: re : indian springs\\r\\nthis deal is t...    1     0\n",
              "...          ...                                                ...  ...   ...\n",
              "5166        1518  Subject: put the 10 on the ft\\r\\nthe transport...    1     0\n",
              "5167         404  Subject: 3 / 4 / 2000 and following noms\\r\\nhp...    1     0\n",
              "5168        2933  Subject: calpine daily gas nomination\\r\\n>\\r\\n...    1     0\n",
              "5169        1409  Subject: industrial worksheets for august 2000...    1     0\n",
              "5170        4807  Subject: important online banking alert\\r\\ndea...    0     1\n",
              "\n",
              "[5171 rows x 4 columns]"
            ]
          },
          "execution_count": 7,
          "metadata": {},
          "output_type": "execute_result"
        }
      ],
      "source": [
        "#one-hot-encoding dan membuat dataframe baru\n",
        "category = pd.get_dummies(df.label)\n",
        "df_baru = pd.concat([df, category], axis=1)\n",
        "df_baru = df_baru.drop(columns='label_num')\n",
        "df_baru = df_baru.drop(columns='label')\n",
        "df_baru"
      ]
    },
    {
      "cell_type": "code",
      "execution_count": 8,
      "metadata": {
        "id": "nabth40zJWdc"
      },
      "outputs": [],
      "source": [
        "#mengubah nilai-nilai dari dataframe ke dalam tipe data numpy array\n",
        "text = df_baru['text'].values\n",
        "label = df_baru[['ham', 'spam']].values"
      ]
    },
    {
      "cell_type": "code",
      "execution_count": 9,
      "metadata": {
        "id": "91Jf56eDCOzK"
      },
      "outputs": [],
      "source": [
        "#split data training dan testing\n",
        "from sklearn.model_selection import train_test_split\n",
        "text_latih, text_test, label_latih, label_test = train_test_split(text, label, test_size=0.2)"
      ]
    },
    {
      "cell_type": "code",
      "execution_count": 10,
      "metadata": {
        "id": "7yMkMkPUCffJ"
      },
      "outputs": [],
      "source": [
        "#Tokenisasi\n",
        "from tensorflow.keras.preprocessing.text import Tokenizer\n",
        "from tensorflow.keras.preprocessing.sequence import pad_sequences\n",
        " \n",
        "tokenizer = Tokenizer(num_words=5000, oov_token='x')\n",
        "tokenizer.fit_on_texts(text_latih) \n",
        "tokenizer.fit_on_texts(text_test)\n",
        " \n",
        "#mengonversi setiap sampel menjadi sequence\n",
        "sekuens_latih = tokenizer.texts_to_sequences(text_latih)\n",
        "sekuens_test = tokenizer.texts_to_sequences(text_test)\n",
        " \n",
        "padded_latih = pad_sequences(sekuens_latih) \n",
        "padded_test = pad_sequences(sekuens_test)"
      ]
    },
    {
      "cell_type": "code",
      "execution_count": 11,
      "metadata": {
        "id": "_kdUtvQFCtI3"
      },
      "outputs": [],
      "source": [
        "#Arsitektur model dengan layer embedding\n",
        "#dimensi embedding 16, dimensi input sebesar num_words\n",
        "import tensorflow as tf\n",
        "model = tf.keras.Sequential([\n",
        "    tf.keras.layers.Embedding(input_dim=5000, output_dim=16),\n",
        "    tf.keras.layers.LSTM(64),\n",
        "    tf.keras.layers.Dense(128, activation='relu'),\n",
        "    tf.keras.layers.Dense(64, activation='relu'),\n",
        "    tf.keras.layers.Dense(2, activation='sigmoid')\n",
        "])\n",
        "model.compile(loss='binary_crossentropy',optimizer='adam',metrics=['accuracy'])"
      ]
    },
    {
      "cell_type": "code",
      "execution_count": 13,
      "metadata": {
        "id": "ETQX7MIQTD7x"
      },
      "outputs": [],
      "source": [
        "class myCallback(tf.keras.callbacks.Callback):\n",
        "  def on_epoch_end(self, epoch, logs={}):\n",
        "    if(logs.get('accuracy')>0.95):\n",
        "      print(\"\\nAkurasi model telah mencapai > 95%! \")\n",
        "      self.model.stop_training = True\n",
        "callbacks = myCallback()"
      ]
    },
    {
      "cell_type": "code",
      "execution_count": 19,
      "metadata": {
        "colab": {
          "base_uri": "https://localhost:8080/"
        },
        "id": "ipOenuxOC0X6",
        "outputId": "6000ef90-7f19-42f8-ad2f-d9d40bc45208"
      },
      "outputs": [
        {
          "name": "stdout",
          "output_type": "stream",
          "text": [
            "Epoch 1/30\n",
            "130/130 - 47s - loss: 8.4060e-04 - accuracy: 0.9998 - val_loss: 0.0973 - val_accuracy: 0.9787\n",
            "Epoch 2/30\n",
            "130/130 - 44s - loss: 0.0014 - accuracy: 0.9998 - val_loss: 0.0895 - val_accuracy: 0.9807\n",
            "Epoch 3/30\n",
            "130/130 - 44s - loss: 0.0012 - accuracy: 0.9998 - val_loss: 0.0858 - val_accuracy: 0.9826\n",
            "Epoch 4/30\n",
            "130/130 - 44s - loss: 0.0012 - accuracy: 0.9998 - val_loss: 0.0762 - val_accuracy: 0.9836\n",
            "Epoch 5/30\n",
            "130/130 - 44s - loss: 0.0041 - accuracy: 0.9985 - val_loss: 0.1864 - val_accuracy: 0.9768\n",
            "Epoch 6/30\n",
            "130/130 - 44s - loss: 0.0173 - accuracy: 0.9952 - val_loss: 0.1136 - val_accuracy: 0.9671\n",
            "Epoch 7/30\n",
            "130/130 - 44s - loss: 0.0031 - accuracy: 0.9990 - val_loss: 0.0952 - val_accuracy: 0.9778\n",
            "Epoch 8/30\n",
            "130/130 - 44s - loss: 0.0013 - accuracy: 0.9998 - val_loss: 0.0869 - val_accuracy: 0.9787\n",
            "Epoch 9/30\n",
            "130/130 - 44s - loss: 0.0013 - accuracy: 0.9998 - val_loss: 0.0929 - val_accuracy: 0.9787\n",
            "Epoch 10/30\n",
            "130/130 - 44s - loss: 0.0013 - accuracy: 0.9998 - val_loss: 0.0896 - val_accuracy: 0.9807\n",
            "Epoch 11/30\n",
            "130/130 - 44s - loss: 0.0011 - accuracy: 0.9998 - val_loss: 0.0954 - val_accuracy: 0.9787\n",
            "Epoch 12/30\n",
            "130/130 - 44s - loss: 9.9397e-04 - accuracy: 0.9998 - val_loss: 0.0973 - val_accuracy: 0.9787\n",
            "Epoch 13/30\n",
            "130/130 - 44s - loss: 0.0012 - accuracy: 0.9995 - val_loss: 0.1019 - val_accuracy: 0.9778\n",
            "Epoch 14/30\n",
            "130/130 - 45s - loss: 0.0020 - accuracy: 0.9995 - val_loss: 0.0848 - val_accuracy: 0.9816\n",
            "Epoch 15/30\n",
            "130/130 - 44s - loss: 0.0011 - accuracy: 0.9998 - val_loss: 0.0872 - val_accuracy: 0.9816\n",
            "Epoch 16/30\n",
            "130/130 - 44s - loss: 7.9740e-04 - accuracy: 0.9998 - val_loss: 0.0887 - val_accuracy: 0.9807\n",
            "Epoch 17/30\n",
            "130/130 - 45s - loss: 9.4623e-04 - accuracy: 0.9998 - val_loss: 0.0962 - val_accuracy: 0.9807\n",
            "Epoch 18/30\n",
            "130/130 - 45s - loss: 7.0120e-04 - accuracy: 0.9998 - val_loss: 0.1066 - val_accuracy: 0.9787\n",
            "Epoch 19/30\n",
            "130/130 - 45s - loss: 6.8871e-04 - accuracy: 0.9998 - val_loss: 0.1259 - val_accuracy: 0.9768\n",
            "Epoch 20/30\n",
            "130/130 - 44s - loss: 0.0011 - accuracy: 0.9998 - val_loss: 0.1065 - val_accuracy: 0.9768\n",
            "Epoch 21/30\n",
            "130/130 - 44s - loss: 5.9381e-04 - accuracy: 0.9998 - val_loss: 0.1099 - val_accuracy: 0.9797\n",
            "Epoch 22/30\n",
            "130/130 - 44s - loss: 6.6846e-04 - accuracy: 0.9998 - val_loss: 0.1149 - val_accuracy: 0.9778\n",
            "Epoch 23/30\n",
            "130/130 - 45s - loss: 6.0064e-04 - accuracy: 0.9998 - val_loss: 0.1252 - val_accuracy: 0.9778\n",
            "Epoch 24/30\n",
            "130/130 - 45s - loss: 4.7211e-04 - accuracy: 0.9998 - val_loss: 0.1293 - val_accuracy: 0.9778\n",
            "Epoch 25/30\n",
            "130/130 - 45s - loss: 3.7431e-04 - accuracy: 0.9998 - val_loss: 0.1369 - val_accuracy: 0.9787\n",
            "Epoch 26/30\n",
            "130/130 - 45s - loss: 3.8000e-04 - accuracy: 0.9998 - val_loss: 0.1461 - val_accuracy: 0.9778\n",
            "Epoch 27/30\n",
            "130/130 - 44s - loss: 0.0065 - accuracy: 0.9993 - val_loss: 0.1090 - val_accuracy: 0.9710\n",
            "Epoch 28/30\n",
            "130/130 - 44s - loss: 0.0160 - accuracy: 0.9959 - val_loss: 0.1021 - val_accuracy: 0.9739\n",
            "Epoch 29/30\n",
            "130/130 - 45s - loss: 0.0022 - accuracy: 0.9995 - val_loss: 0.1152 - val_accuracy: 0.9768\n",
            "Epoch 30/30\n",
            "130/130 - 44s - loss: 5.3266e-04 - accuracy: 0.9998 - val_loss: 0.1164 - val_accuracy: 0.9768\n"
          ]
        }
      ],
      "source": [
        "#training\n",
        "num_epochs = 30\n",
        "history = model.fit(padded_latih, label_latih, epochs=num_epochs, \n",
        "                    validation_data=(padded_test, label_test), verbose=2)"
      ]
    },
    {
      "cell_type": "code",
      "execution_count": 20,
      "metadata": {
        "colab": {
          "base_uri": "https://localhost:8080/",
          "height": 295
        },
        "id": "_QyoZNdbULrH",
        "outputId": "82a69b41-50c8-440e-d645-d7add603bb8d"
      },
      "outputs": [
        {
          "data": {
            "image/png": "[encoded data removed]",
            "text/plain": [
              "<Figure size 432x288 with 1 Axes>"
            ]
          },
          "metadata": {
            "needs_background": "light"
          },
          "output_type": "display_data"
        }
      ],
      "source": [
        "plt.plot(history.history['accuracy'])\n",
        "plt.title('Model accuracy')\n",
        "plt.ylabel('Accuracy')\n",
        "plt.xlabel('Epoch')\n",
        "plt.legend(['Train'], loc='lower right')\n",
        "plt.show()"
      ]
    },
    {
      "cell_type": "code",
      "execution_count": 22,
      "metadata": {
        "colab": {
          "base_uri": "https://localhost:8080/",
          "height": 295
        },
        "id": "2OtCHNtdZ65O",
        "outputId": "0b948abf-c733-44f8-9ebc-6132faa879a5"
      },
      "outputs": [
        {
          "data": {
            "image/png": "[encoded data removed]",
            "text/plain": [
              "<Figure size 432x288 with 1 Axes>"
            ]
          },
          "metadata": {
            "needs_background": "light"
          },
          "output_type": "display_data"
        }
      ],
      "source": [
        "plt.plot(history.history['loss'])\n",
        "plt.title('Model loss')\n",
        "plt.ylabel('loss')\n",
        "plt.xlabel('Epoch')\n",
        "plt.legend(['Train'], loc='upper right')\n",
        "plt.show()"
      ]
    }
  ],
  "metadata": {
    "accelerator": "GPU",
    "colab": {
      "authorship_tag": "ABX9TyOkRtKwqCrPlPqsZSi7CBwi",
      "include_colab_link": true,
      "name": "Kampus Merdeka Submission NLP LSTM.ipynb",
      "provenance": []
    },
    "kernelspec": {
      "display_name": "Python 3",
      "name": "python3"
    },
    "language_info": {
      "name": "python"
    }
  },
  "nbformat": 4,
  "nbformat_minor": 0
}
