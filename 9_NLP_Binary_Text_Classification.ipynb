{
  "cells": [
    {
      "cell_type": "code",
      "execution_count": 1,
      "metadata": {
        "colab": {
          "base_uri": "https://localhost:8080/"
        },
        "id": "VOZmiwLofE_b",
        "outputId": "12e0af9c-de5c-40ae-86bc-750aad82ec8e"
      },
      "outputs": [
        {
          "name": "stdout",
          "output_type": "stream",
          "text": [
            "Mounted at /content/drive\n"
          ]
        }
      ],
      "source": [
        "import zipfile,os\n",
        "from google.colab import drive\n",
        "drive.mount('/content/drive')"
      ]
    },
    {
      "cell_type": "code",
      "execution_count": 2,
      "metadata": {
        "id": "Z3lhPbhGg0LN"
      },
      "outputs": [],
      "source": [
        "path = 'drive/My Drive/MachineLearning'"
      ]
    },
    {
      "cell_type": "code",
      "execution_count": 3,
      "metadata": {
        "id": "Co5zrBH3hBiK"
      },
      "outputs": [],
      "source": [
        "# melakukan ekstraksi pada file zip\n",
        "import zipfile,os,shutil\n",
        "local_zip = 'drive/My Drive/MachineLearning/BinaryTextClassification.zip'\n",
        "zip_ref = zipfile.ZipFile(local_zip, 'r')\n",
        "zip_ref.extractall('/BinaryTextClassification')\n",
        "zip_ref.close()"
      ]
    },
    {
      "cell_type": "code",
      "execution_count": 4,
      "metadata": {
        "colab": {
          "base_uri": "https://localhost:8080/"
        },
        "id": "L0cqLF3XqJbK",
        "outputId": "9d97f9c5-1f6c-497c-f5ae-5329ebda1c85"
      },
      "outputs": [
        {
          "data": {
            "text/plain": [
              "['sentiment labelled sentences']"
            ]
          },
          "execution_count": 4,
          "metadata": {},
          "output_type": "execute_result"
        }
      ],
      "source": [
        "os.listdir('/BinaryTextClassification')"
      ]
    },
    {
      "cell_type": "code",
      "execution_count": 5,
      "metadata": {
        "id": "f81BMK8_kmTc"
      },
      "outputs": [],
      "source": [
        "import pandas as pd\n",
        "df = pd.read_csv('/BinaryTextClassification/sentiment labelled sentences/yelp_labelled.txt', names=['sentence', 'label'], sep='\\t')"
      ]
    },
    {
      "cell_type": "code",
      "execution_count": 6,
      "metadata": {
        "colab": {
          "base_uri": "https://localhost:8080/",
          "height": 206
        },
        "id": "TgjPPHYpqhkg",
        "outputId": "47938126-cb07-4e1b-9f68-350d59b593e9"
      },
      "outputs": [
        {
          "data": {
            "text/html": [
              "<div>\n",
              "<style scoped>\n",
              "    .dataframe tbody tr th:only-of-type {\n",
              "        vertical-align: middle;\n",
              "    }\n",
              "\n",
              "    .dataframe tbody tr th {\n",
              "        vertical-align: top;\n",
              "    }\n",
              "\n",
              "    .dataframe thead th {\n",
              "        text-align: right;\n",
              "    }\n",
              "</style>\n",
              "<table border=\"1\" class=\"dataframe\">\n",
              "  <thead>\n",
              "    <tr style=\"text-align: right;\">\n",
              "      <th></th>\n",
              "      <th>sentence</th>\n",
              "      <th>label</th>\n",
              "    </tr>\n",
              "  </thead>\n",
              "  <tbody>\n",
              "    <tr>\n",
              "      <th>995</th>\n",
              "      <td>I think food should have flavor and texture an...</td>\n",
              "      <td>0</td>\n",
              "    </tr>\n",
              "    <tr>\n",
              "      <th>996</th>\n",
              "      <td>Appetite instantly gone.</td>\n",
              "      <td>0</td>\n",
              "    </tr>\n",
              "    <tr>\n",
              "      <th>997</th>\n",
              "      <td>Overall I was not impressed and would not go b...</td>\n",
              "      <td>0</td>\n",
              "    </tr>\n",
              "    <tr>\n",
              "      <th>998</th>\n",
              "      <td>The whole experience was underwhelming, and I ...</td>\n",
              "      <td>0</td>\n",
              "    </tr>\n",
              "    <tr>\n",
              "      <th>999</th>\n",
              "      <td>Then, as if I hadn't wasted enough of my life ...</td>\n",
              "      <td>0</td>\n",
              "    </tr>\n",
              "  </tbody>\n",
              "</table>\n",
              "</div>"
            ],
            "text/plain": [
              "                                              sentence  label\n",
              "995  I think food should have flavor and texture an...      0\n",
              "996                           Appetite instantly gone.      0\n",
              "997  Overall I was not impressed and would not go b...      0\n",
              "998  The whole experience was underwhelming, and I ...      0\n",
              "999  Then, as if I hadn't wasted enough of my life ...      0"
            ]
          },
          "execution_count": 6,
          "metadata": {},
          "output_type": "execute_result"
        }
      ],
      "source": [
        "df.tail()"
      ]
    },
    {
      "cell_type": "code",
      "execution_count": 8,
      "metadata": {
        "id": "K6KM_XVSrI7n"
      },
      "outputs": [],
      "source": [
        "#split data train dan data test\n",
        "from sklearn.model_selection import train_test_split\n",
        "kalimat = df['sentence'].values\n",
        "y = df['label'].values\n",
        "kalimat_latih, kalimat_test, y_latih, y_test = train_test_split(kalimat, y, test_size=0.2)"
      ]
    },
    {
      "cell_type": "code",
      "execution_count": 9,
      "metadata": {
        "id": "d2yt76BJrTow"
      },
      "outputs": [],
      "source": [
        "#tokenisasi dan sequencing\n",
        "from tensorflow.keras.preprocessing.text import Tokenizer\n",
        "from tensorflow.keras.preprocessing.sequence import pad_sequences\n",
        " \n",
        " #num_words: jumlah kata yang ditokenisasi\n",
        " #oov_token: nilai kata yang tidak ada pada tokenisasi\n",
        "tokenizer = Tokenizer(num_words=250, oov_token='x') \n",
        "tokenizer.fit_on_texts(kalimat_latih) \n",
        "tokenizer.fit_on_texts(kalimat_test)\n",
        " \n",
        "sekuens_latih = tokenizer.texts_to_sequences(kalimat_latih)\n",
        "sekuens_test = tokenizer.texts_to_sequences(kalimat_test)\n",
        " \n",
        "padded_latih = pad_sequences(sekuens_latih) \n",
        "padded_test = pad_sequences(sekuens_test)"
      ]
    },
    {
      "cell_type": "code",
      "execution_count": 10,
      "metadata": {
        "id": "NiLn_0tnruOk"
      },
      "outputs": [],
      "source": [
        "#arsitektur layer embedding\n",
        "#argumen pertama jumlah kata pada tokenizer\n",
        "#argumen selanjutnya dimensi embedding dan input_length\n",
        "import tensorflow as tf\n",
        "model = tf.keras.Sequential([\n",
        "    #parameter fungsi embedding\n",
        "    #parameter pertama adalah jumlah vocab yang ditokenisasi\n",
        "    #parameter kedua adalah jumlah dimensi\n",
        "    #input_length adalah panjang sequence\n",
        "    tf.keras.layers.Embedding(250, 16, input_length=20),\n",
        "    #tidak pakai layer flatten tapi GlobalAveragePooling1D()\n",
        "    tf.keras.layers.GlobalAveragePooling1D(),\n",
        "    tf.keras.layers.Dense(24, activation='relu'),\n",
        "    tf.keras.layers.Dense(1, activation='sigmoid')\n",
        "])\n",
        "model.compile(loss='binary_crossentropy',\n",
        "              optimizer='adam',\n",
        "              metrics=['accuracy'])"
      ]
    },
    {
      "cell_type": "code",
      "execution_count": 11,
      "metadata": {
        "colab": {
          "base_uri": "https://localhost:8080/"
        },
        "id": "7XHIek8ssFgu",
        "outputId": "fed666cf-5ca3-4eb9-892b-e4ef6ecef3e0"
      },
      "outputs": [
        {
          "name": "stdout",
          "output_type": "stream",
          "text": [
            "Epoch 1/30\n",
            "WARNING:tensorflow:Model was constructed with shape (None, 20) for input KerasTensor(type_spec=TensorSpec(shape=(None, 20), dtype=tf.float32, name='embedding_input'), name='embedding_input', description=\"created by layer 'embedding_input'\"), but it was called on an input with incompatible shape (32, 32).\n",
            "WARNING:tensorflow:Model was constructed with shape (None, 20) for input KerasTensor(type_spec=TensorSpec(shape=(None, 20), dtype=tf.float32, name='embedding_input'), name='embedding_input', description=\"created by layer 'embedding_input'\"), but it was called on an input with incompatible shape (32, 32).\n",
            "WARNING:tensorflow:Model was constructed with shape (None, 20) for input KerasTensor(type_spec=TensorSpec(shape=(None, 20), dtype=tf.float32, name='embedding_input'), name='embedding_input', description=\"created by layer 'embedding_input'\"), but it was called on an input with incompatible shape (None, 31).\n",
            "25/25 - 1s - loss: 0.6928 - accuracy: 0.4975 - val_loss: 0.6924 - val_accuracy: 0.5000\n",
            "Epoch 2/30\n",
            "25/25 - 0s - loss: 0.6911 - accuracy: 0.5387 - val_loss: 0.6907 - val_accuracy: 0.5600\n",
            "Epoch 3/30\n",
            "25/25 - 0s - loss: 0.6888 - accuracy: 0.5888 - val_loss: 0.6881 - val_accuracy: 0.6100\n",
            "Epoch 4/30\n",
            "25/25 - 0s - loss: 0.6854 - accuracy: 0.5913 - val_loss: 0.6837 - val_accuracy: 0.6300\n",
            "Epoch 5/30\n",
            "25/25 - 0s - loss: 0.6793 - accuracy: 0.6338 - val_loss: 0.6777 - val_accuracy: 0.6300\n",
            "Epoch 6/30\n",
            "25/25 - 0s - loss: 0.6710 - accuracy: 0.6488 - val_loss: 0.6684 - val_accuracy: 0.6400\n",
            "Epoch 7/30\n",
            "25/25 - 0s - loss: 0.6590 - accuracy: 0.7013 - val_loss: 0.6568 - val_accuracy: 0.6950\n",
            "Epoch 8/30\n",
            "25/25 - 0s - loss: 0.6445 - accuracy: 0.7088 - val_loss: 0.6427 - val_accuracy: 0.7200\n",
            "Epoch 9/30\n",
            "25/25 - 0s - loss: 0.6270 - accuracy: 0.7088 - val_loss: 0.6271 - val_accuracy: 0.7000\n",
            "Epoch 10/30\n",
            "25/25 - 0s - loss: 0.6092 - accuracy: 0.7437 - val_loss: 0.6138 - val_accuracy: 0.6950\n",
            "Epoch 11/30\n",
            "25/25 - 0s - loss: 0.5842 - accuracy: 0.7513 - val_loss: 0.5922 - val_accuracy: 0.6950\n",
            "Epoch 12/30\n",
            "25/25 - 0s - loss: 0.5608 - accuracy: 0.7763 - val_loss: 0.5754 - val_accuracy: 0.7050\n",
            "Epoch 13/30\n",
            "25/25 - 0s - loss: 0.5355 - accuracy: 0.8075 - val_loss: 0.5595 - val_accuracy: 0.7250\n",
            "Epoch 14/30\n",
            "25/25 - 0s - loss: 0.5138 - accuracy: 0.7937 - val_loss: 0.5423 - val_accuracy: 0.7200\n",
            "Epoch 15/30\n",
            "25/25 - 0s - loss: 0.4889 - accuracy: 0.8225 - val_loss: 0.5267 - val_accuracy: 0.7300\n",
            "Epoch 16/30\n",
            "25/25 - 0s - loss: 0.4669 - accuracy: 0.8163 - val_loss: 0.5150 - val_accuracy: 0.7550\n",
            "Epoch 17/30\n",
            "25/25 - 0s - loss: 0.4487 - accuracy: 0.8375 - val_loss: 0.5039 - val_accuracy: 0.7500\n",
            "Epoch 18/30\n",
            "25/25 - 0s - loss: 0.4283 - accuracy: 0.8400 - val_loss: 0.4951 - val_accuracy: 0.7550\n",
            "Epoch 19/30\n",
            "25/25 - 0s - loss: 0.4110 - accuracy: 0.8475 - val_loss: 0.4911 - val_accuracy: 0.7500\n",
            "Epoch 20/30\n",
            "25/25 - 0s - loss: 0.3966 - accuracy: 0.8512 - val_loss: 0.4818 - val_accuracy: 0.7500\n",
            "Epoch 21/30\n",
            "25/25 - 0s - loss: 0.3824 - accuracy: 0.8575 - val_loss: 0.4769 - val_accuracy: 0.7600\n",
            "Epoch 22/30\n",
            "25/25 - 0s - loss: 0.3709 - accuracy: 0.8575 - val_loss: 0.4732 - val_accuracy: 0.7700\n",
            "Epoch 23/30\n",
            "25/25 - 0s - loss: 0.3606 - accuracy: 0.8562 - val_loss: 0.4720 - val_accuracy: 0.7700\n",
            "Epoch 24/30\n",
            "25/25 - 0s - loss: 0.3492 - accuracy: 0.8737 - val_loss: 0.4824 - val_accuracy: 0.7500\n",
            "Epoch 25/30\n",
            "25/25 - 0s - loss: 0.3459 - accuracy: 0.8637 - val_loss: 0.4673 - val_accuracy: 0.7650\n",
            "Epoch 26/30\n",
            "25/25 - 0s - loss: 0.3369 - accuracy: 0.8575 - val_loss: 0.4664 - val_accuracy: 0.7850\n",
            "Epoch 27/30\n",
            "25/25 - 0s - loss: 0.3268 - accuracy: 0.8725 - val_loss: 0.4669 - val_accuracy: 0.7800\n",
            "Epoch 28/30\n",
            "25/25 - 0s - loss: 0.3183 - accuracy: 0.8800 - val_loss: 0.4669 - val_accuracy: 0.7750\n",
            "Epoch 29/30\n",
            "25/25 - 0s - loss: 0.3142 - accuracy: 0.8838 - val_loss: 0.4674 - val_accuracy: 0.7800\n",
            "Epoch 30/30\n",
            "25/25 - 0s - loss: 0.3081 - accuracy: 0.8850 - val_loss: 0.4694 - val_accuracy: 0.7850\n"
          ]
        }
      ],
      "source": [
        "num_epochs = 30\n",
        "history = model.fit(padded_latih, y_latih, epochs=num_epochs, \n",
        "                    validation_data=(padded_test, y_test), verbose=2)"
      ]
    }
  ],
  "metadata": {
    "colab": {
      "authorship_tag": "ABX9TyMTMlKP5ZKpbLLQzr9gziWr",
      "include_colab_link": true,
      "name": "9 NLP Binary Text Classification.ipynb",
      "provenance": []
    },
    "kernelspec": {
      "display_name": "Python 3",
      "name": "python3"
    },
    "language_info": {
      "name": "python"
    }
  },
  "nbformat": 4,
  "nbformat_minor": 0
}
