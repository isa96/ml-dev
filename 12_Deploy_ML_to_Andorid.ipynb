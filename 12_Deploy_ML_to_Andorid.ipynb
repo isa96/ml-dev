{
  "cells": [
    {
      "cell_type": "code",
      "execution_count": 1,
      "metadata": {
        "id": "KcBGLKIaotBG"
      },
      "outputs": [],
      "source": [
        "import tensorflow as tf"
      ]
    },
    {
      "cell_type": "code",
      "execution_count": 2,
      "metadata": {
        "colab": {
          "base_uri": "https://localhost:8080/"
        },
        "id": "KIJIhnuZpHry",
        "outputId": "b14da907-e5b7-45f2-d63e-748d2f311a71"
      },
      "outputs": [
        {
          "name": "stdout",
          "output_type": "stream",
          "text": [
            "Downloading data from https://storage.googleapis.com/tensorflow/tf-keras-datasets/train-labels-idx1-ubyte.gz\n",
            "32768/29515 [=================================] - 0s 0us/step\n",
            "40960/29515 [=========================================] - 0s 0us/step\n",
            "Downloading data from https://storage.googleapis.com/tensorflow/tf-keras-datasets/train-images-idx3-ubyte.gz\n",
            "26427392/26421880 [==============================] - 0s 0us/step\n",
            "26435584/26421880 [==============================] - 0s 0us/step\n",
            "Downloading data from https://storage.googleapis.com/tensorflow/tf-keras-datasets/t10k-labels-idx1-ubyte.gz\n",
            "16384/5148 [===============================================================================================] - 0s 0us/step\n",
            "Downloading data from https://storage.googleapis.com/tensorflow/tf-keras-datasets/t10k-images-idx3-ubyte.gz\n",
            "4423680/4422102 [==============================] - 0s 0us/step\n",
            "4431872/4422102 [==============================] - 0s 0us/step\n",
            "Epoch 1/20\n",
            "1875/1875 [==============================] - 87s 46ms/step - loss: 0.4390 - accuracy: 0.8402\n",
            "Epoch 2/20\n",
            "1875/1875 [==============================] - 86s 46ms/step - loss: 0.2970 - accuracy: 0.8910\n",
            "Epoch 3/20\n",
            "1875/1875 [==============================] - 84s 45ms/step - loss: 0.2526 - accuracy: 0.9074\n",
            "Epoch 4/20\n",
            "1875/1875 [==============================] - 84s 45ms/step - loss: 0.2212 - accuracy: 0.9178\n",
            "Epoch 5/20\n",
            "1875/1875 [==============================] - 84s 45ms/step - loss: 0.1911 - accuracy: 0.9284\n",
            "Epoch 6/20\n",
            "1875/1875 [==============================] - 85s 45ms/step - loss: 0.1706 - accuracy: 0.9355\n",
            "Epoch 7/20\n",
            "1875/1875 [==============================] - 85s 45ms/step - loss: 0.1472 - accuracy: 0.9450\n",
            "Epoch 8/20\n",
            "1875/1875 [==============================] - 84s 45ms/step - loss: 0.1332 - accuracy: 0.9499\n",
            "Epoch 9/20\n",
            "1875/1875 [==============================] - 84s 45ms/step - loss: 0.1158 - accuracy: 0.9567\n",
            "Epoch 10/20\n",
            "1875/1875 [==============================] - 84s 45ms/step - loss: 0.1015 - accuracy: 0.9614\n",
            "Epoch 11/20\n",
            "1875/1875 [==============================] - 84s 45ms/step - loss: 0.0898 - accuracy: 0.9657\n",
            "Epoch 12/20\n",
            "1875/1875 [==============================] - 85s 45ms/step - loss: 0.0799 - accuracy: 0.9695\n",
            "Epoch 13/20\n",
            "1875/1875 [==============================] - 85s 45ms/step - loss: 0.0687 - accuracy: 0.9738\n",
            "Epoch 14/20\n",
            "1875/1875 [==============================] - 84s 45ms/step - loss: 0.0620 - accuracy: 0.9764\n",
            "Epoch 15/20\n",
            "1875/1875 [==============================] - 83s 45ms/step - loss: 0.0582 - accuracy: 0.9785\n",
            "Epoch 16/20\n",
            "1875/1875 [==============================] - 83s 44ms/step - loss: 0.0508 - accuracy: 0.9803\n",
            "Epoch 17/20\n",
            "1875/1875 [==============================] - 84s 45ms/step - loss: 0.0480 - accuracy: 0.9822\n",
            "Epoch 18/20\n",
            "1875/1875 [==============================] - 83s 44ms/step - loss: 0.0442 - accuracy: 0.9834\n",
            "Epoch 19/20\n",
            "1875/1875 [==============================] - 84s 45ms/step - loss: 0.0403 - accuracy: 0.9852\n",
            "Epoch 20/20\n",
            "1875/1875 [==============================] - 84s 45ms/step - loss: 0.0373 - accuracy: 0.9862\n"
          ]
        }
      ],
      "source": [
        "fashion_mnist = tf.keras.datasets.fashion_mnist\n",
        "(training_images, training_labels), (test_images, test_labels) = fashion_mnist.load_data()\n",
        "    # YOUR CODE STARTS HERE\n",
        "\n",
        "    \n",
        "training_images=training_images.reshape(60000, 28, 28, 1)\n",
        "training_images=training_images / 255.0\n",
        "test_images = test_images.reshape(10000, 28, 28, 1)\n",
        "test_images=test_images/255.0\n",
        "# YOUR CODE ENDS HERE\n",
        "\n",
        "model = tf.keras.models.Sequential([\n",
        "      # YOUR CODE STARTS HERE\n",
        "      tf.keras.layers.Conv2D(64, (3,3), activation='relu', input_shape=(28, 28, 1)),\n",
        "      tf.keras.layers.MaxPooling2D(2, 2),\n",
        "      tf.keras.layers.Conv2D(64, (3,3), activation='relu'),\n",
        "      tf.keras.layers.MaxPooling2D(2,2),\n",
        "      tf.keras.layers.Flatten(),\n",
        "      tf.keras.layers.Dense(128, activation='relu'),\n",
        "      tf.keras.layers.Dense(10, activation='softmax')\n",
        "            # YOUR CODE ENDS HERE\n",
        "    ])\n",
        "\n",
        "model.compile(optimizer='adam', loss='sparse_categorical_crossentropy', metrics=['accuracy'])\n",
        "    # model fitting\n",
        "history = model.fit(\n",
        "        # YOUR CODE STARTS HERE\n",
        "    training_images, training_labels, epochs=20\n",
        "        # YOUR CODE ENDS HERE\n",
        "    )\n",
        "    # model fitting"
      ]
    },
    {
      "cell_type": "markdown",
      "metadata": {
        "id": "JdmEybdHpPIG"
      },
      "source": [
        "**SAFE MODEL TO TF LITE**"
      ]
    },
    {
      "cell_type": "code",
      "execution_count": 3,
      "metadata": {
        "colab": {
          "base_uri": "https://localhost:8080/"
        },
        "id": "lpl0M5wRpLsD",
        "outputId": "67ae719c-1854-448a-fb47-d0a9f92d7999"
      },
      "outputs": [
        {
          "name": "stdout",
          "output_type": "stream",
          "text": [
            "INFO:tensorflow:Assets written to: /tmp/tmpgln2bnfw/assets\n"
          ]
        }
      ],
      "source": [
        "# Convert the TensorFlow model that already trained to be tflite using TFLiteConverter\n",
        "converter = tf.lite.TFLiteConverter.from_keras_model(model)\n",
        "tflite_model = converter.convert()\n",
        "\n",
        "# Save the TF Lite model.\n",
        "with tf.io.gfile.GFile('model.tflite', 'wb') as f:\n",
        "  f.write(tflite_model)"
      ]
    },
    {
      "cell_type": "code",
      "execution_count": 4,
      "metadata": {
        "colab": {
          "base_uri": "https://localhost:8080/"
        },
        "id": "Xkl-8P0kpU0u",
        "outputId": "23b9d874-f6de-4bd6-c014-4fd97e023204"
      },
      "outputs": [
        {
          "name": "stdout",
          "output_type": "stream",
          "text": [
            "INFO:tensorflow:Assets written to: my_model.pb/assets\n"
          ]
        },
        {
          "name": "stderr",
          "output_type": "stream",
          "text": [
            "INFO:tensorflow:Assets written to: my_model.pb/assets\n"
          ]
        },
        {
          "name": "stdout",
          "output_type": "stream",
          "text": [
            "/root\n"
          ]
        }
      ],
      "source": [
        "# Save the entire model to a HDF5 file.\n",
        "# The '.h5' extension indicates that the model should be saved to HDF5.\n",
        "model.save('my_model.pb') \n",
        "%cd"
      ]
    },
    {
      "cell_type": "markdown",
      "metadata": {
        "id": "bfm3o5xN9m7s"
      },
      "source": [
        "INFO:tensorflow:Assets written to: my_model.pb/assets\n",
        "/root"
      ]
    },
    {
      "cell_type": "code",
      "execution_count": 5,
      "metadata": {
        "colab": {
          "base_uri": "https://localhost:8080/"
        },
        "id": "LhrFq6f6pXZw",
        "outputId": "d6b03f82-8ef7-4d00-c5ee-693f77c4074a"
      },
      "outputs": [
        {
          "name": "stdout",
          "output_type": "stream",
          "text": [
            "/root\n"
          ]
        }
      ],
      "source": [
        "import os\n",
        "import tarfile\n",
        "def tardir(path, tar_name):\n",
        "    with tarfile.open(tar_name, \"w:gz\") as tar_handle:\n",
        "        for root, dirs, files in os.walk(path):\n",
        "            for file in files:\n",
        "                tar_handle.add(os.path.join(root, file))\n",
        "tardir('root/my_model.pb', 'my_model.tar.gz')\n",
        "%cd\n",
        "\n",
        "# path = '/Some/path/to/Pics2'\n",
        "# filename = 'forcing{0}damping{1}omega{2}set2.png'.format(forcing, damping, omega)\n",
        "# filename = os.path.join(path, filename)\n",
        "# fig.savefig(filename)"
      ]
    },
    {
      "cell_type": "code",
      "execution_count": 6,
      "metadata": {
        "colab": {
          "base_uri": "https://localhost:8080/"
        },
        "id": "m-MeUhqI9sBa",
        "outputId": "fd8d2a34-501f-42ee-9766-01ce852c01c8"
      },
      "outputs": [
        {
          "name": "stdout",
          "output_type": "stream",
          "text": [
            "Mounted at /content/drive\n"
          ]
        }
      ],
      "source": [
        "from google.colab import drive\n",
        "drive.mount('/content/drive')"
      ]
    }
  ],
  "metadata": {
    "colab": {
      "authorship_tag": "ABX9TyPq5ZtxNV+x2+AZGUgXWu7p",
      "include_colab_link": true,
      "name": "12 Deploy ML to Andorid.ipynb",
      "provenance": []
    },
    "kernelspec": {
      "display_name": "Python 3",
      "name": "python3"
    },
    "language_info": {
      "name": "python"
    }
  },
  "nbformat": 4,
  "nbformat_minor": 0
}
